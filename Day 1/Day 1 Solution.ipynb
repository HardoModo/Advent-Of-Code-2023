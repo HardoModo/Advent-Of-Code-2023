{
 "cells": [
  {
   "cell_type": "markdown",
   "metadata": {},
   "source": [
    "Day 1 Part 1 Solution"
   ]
  },
  {
   "cell_type": "code",
   "execution_count": 80,
   "metadata": {},
   "outputs": [
    {
     "name": "stdout",
     "output_type": "stream",
     "text": [
      "The solution is 55172\n"
     ]
    }
   ],
   "source": [
    "firstCharacter = None\n",
    "secondCharacter = None\n",
    "summed = None\n",
    "solution = 0\n",
    "\n",
    "f = open(\"Day 1 Puzzle.txt\", \"r\")\n",
    "for line in f:\n",
    "    x = [*line]\n",
    "    for character in x:\n",
    "        if character == \"\\n\":\n",
    "            summed = str(firstCharacter) + str(secondCharacter)\n",
    "            solution = solution + int(summed)\n",
    "            firstCharacter = None\n",
    "            secondCharacter = None\n",
    "            summed = None\n",
    "        elif character.isnumeric() == True:\n",
    "            if firstCharacter == None:\n",
    "                firstCharacter = character\n",
    "            secondCharacter = character\n",
    "print(\"The solution is \" + str(solution))"
   ]
  },
  {
   "cell_type": "markdown",
   "metadata": {},
   "source": [
    "Day 1 Part 2 Solution"
   ]
  },
  {
   "cell_type": "code",
   "execution_count": 81,
   "metadata": {},
   "outputs": [],
   "source": [
    "one = \"o\", \"n\", \"e\"\n",
    "two = \"t\", \"w\", \"o\"\n",
    "three = \"t\", \"h\", \"r\", \"e\", \"e\"\n",
    "four = \"f\" ,\"o\", \"u\", \"r\"\n",
    "five = \"f\" ,\"i\", \"v\", \"e\"\n",
    "six = \"s\", \"i\", \"x\"\n",
    "seven = \"s\", \"e\", \"v\", \"e\", \"n\"\n",
    "eight = \"e\", \"i\", \"g\", \"h\", \"t\"\n",
    "nine = \"n\", \"i\", \"n\", \"e\"\n",
    "# zero = \"z\", \"e\", \"r\", \"o\"\n",
    "\n",
    "numStrArray = [one, two, three, four, five, six, seven, eight, nine]"
   ]
  },
  {
   "cell_type": "code",
   "execution_count": 82,
   "metadata": {},
   "outputs": [],
   "source": [
    "def returnNum(input):\n",
    "    if input ==  (\"o\", \"n\", \"e\"):\n",
    "        return 1\n",
    "    elif input == (\"t\", \"w\", \"o\"):\n",
    "        return 2\n",
    "    elif input == (\"t\", \"h\", \"r\", \"e\", \"e\"):\n",
    "        return 3\n",
    "    elif input == (\"f\" ,\"o\", \"u\", \"r\"):\n",
    "        return 4\n",
    "    elif input == (\"f\" ,\"i\", \"v\", \"e\"):\n",
    "        return 5\n",
    "    elif input == (\"s\", \"i\", \"x\"):\n",
    "        return 6\n",
    "    elif input == (\"s\", \"e\", \"v\", \"e\", \"n\"):\n",
    "        return 7\n",
    "    elif input == (\"e\", \"i\", \"g\", \"h\", \"t\"):\n",
    "        return 8\n",
    "    elif input == (\"n\", \"i\", \"n\", \"e\"):\n",
    "        return 9\n",
    "    # elif input == (\"z\", \"e\", \"r\", \"o\"):\n",
    "    #     return 0"
   ]
  },
  {
   "cell_type": "code",
   "execution_count": 83,
   "metadata": {},
   "outputs": [],
   "source": [
    "def numStringDetector(input):\n",
    "    charaLengthChecker = 0\n",
    "    numStrDetected = None\n",
    "\n",
    "    for numStr in numStrArray:\n",
    "        charaLengthChecker = 0\n",
    "        for character in input:\n",
    "            if character == numStr[charaLengthChecker]:\n",
    "                charaLengthChecker = charaLengthChecker + 1\n",
    "                if charaLengthChecker == len(numStr):\n",
    "                    charaLengthChecker = 0\n",
    "                    numStrDetected = returnNum(numStr)\n",
    "    return numStrDetected"
   ]
  },
  {
   "cell_type": "code",
   "execution_count": 84,
   "metadata": {},
   "outputs": [
    {
     "data": {
      "text/plain": [
       "3"
      ]
     },
     "execution_count": 84,
     "metadata": {},
     "output_type": "execute_result"
    }
   ],
   "source": [
    "y = \"t\", \"h\", \"o\", \"n\", \"e\", \"z\", \"o\", \"n\", \"e\", \"r\", \"t\", \"h\", \"r\", \"e\", \"e\"\n",
    "\n",
    "numStringDetector(y)"
   ]
  }
 ],
 "metadata": {
  "kernelspec": {
   "display_name": "base",
   "language": "python",
   "name": "python3"
  },
  "language_info": {
   "codemirror_mode": {
    "name": "ipython",
    "version": 3
   },
   "file_extension": ".py",
   "mimetype": "text/x-python",
   "name": "python",
   "nbconvert_exporter": "python",
   "pygments_lexer": "ipython3",
   "version": "3.9.13"
  }
 },
 "nbformat": 4,
 "nbformat_minor": 2
}
